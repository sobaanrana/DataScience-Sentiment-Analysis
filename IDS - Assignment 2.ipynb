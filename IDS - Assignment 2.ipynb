{
 "cells": [
  {
   "cell_type": "markdown",
   "metadata": {},
   "source": [
    "### Importing Libraries"
   ]
  },
  {
   "cell_type": "code",
   "execution_count": 44,
   "metadata": {},
   "outputs": [],
   "source": [
    "import pandas as pd\n",
    "import re\n",
    "import numpy as np\n",
    "import nltk\n",
    "\n",
    "from nltk.tokenize import TweetTokenizer\n",
    "from nltk import PorterStemmer\n",
    "from nltk import ngrams\n",
    "\n",
    "from sklearn.preprocessing import LabelEncoder\n",
    "from sklearn.feature_extraction.text import CountVectorizer\n",
    "from sklearn.feature_extraction.text import TfidfVectorizer\n"
   ]
  },
  {
   "cell_type": "markdown",
   "metadata": {},
   "source": [
    "### Reading Training Dataset\n"
   ]
  },
  {
   "cell_type": "markdown",
   "metadata": {},
   "source": [
    "\n",
    "We are using _ as a seperator/ delimeter"
   ]
  },
  {
   "cell_type": "code",
   "execution_count": 2,
   "metadata": {
    "scrolled": true
   },
   "outputs": [
    {
     "data": {
      "text/html": [
       "<div>\n",
       "<style scoped>\n",
       "    .dataframe tbody tr th:only-of-type {\n",
       "        vertical-align: middle;\n",
       "    }\n",
       "\n",
       "    .dataframe tbody tr th {\n",
       "        vertical-align: top;\n",
       "    }\n",
       "\n",
       "    .dataframe thead th {\n",
       "        text-align: right;\n",
       "    }\n",
       "</style>\n",
       "<table border=\"1\" class=\"dataframe\">\n",
       "  <thead>\n",
       "    <tr style=\"text-align: right;\">\n",
       "      <th></th>\n",
       "      <th>Index</th>\n",
       "      <th>Comment</th>\n",
       "      <th>Polarity</th>\n",
       "    </tr>\n",
       "  </thead>\n",
       "  <tbody>\n",
       "    <tr>\n",
       "      <th>0</th>\n",
       "      <td>0</td>\n",
       "      <td>time to eat with my best buddy! #lunch</td>\n",
       "      <td>Happy</td>\n",
       "    </tr>\n",
       "    <tr>\n",
       "      <th>1</th>\n",
       "      <td>1</td>\n",
       "      <td>@user @user if they want reflection money. #ksleg</td>\n",
       "      <td>Happy</td>\n",
       "    </tr>\n",
       "    <tr>\n",
       "      <th>2</th>\n",
       "      <td>2</td>\n",
       "      <td>---Good job but I’ will expect a lot more in f...</td>\n",
       "      <td>Happy</td>\n",
       "    </tr>\n",
       "    <tr>\n",
       "      <th>3</th>\n",
       "      <td>3</td>\n",
       "      <td>totally dissatisfied with the service###%%@@ n...</td>\n",
       "      <td>Sad</td>\n",
       "    </tr>\n",
       "    <tr>\n",
       "      <th>4</th>\n",
       "      <td>4</td>\n",
       "      <td>loved my work!!!!!</td>\n",
       "      <td>Happy</td>\n",
       "    </tr>\n",
       "    <tr>\n",
       "      <th>5</th>\n",
       "      <td>5</td>\n",
       "      <td>Worst customer care service......@@$$$angry</td>\n",
       "      <td>Sad</td>\n",
       "    </tr>\n",
       "    <tr>\n",
       "      <th>6</th>\n",
       "      <td>6</td>\n",
       "      <td>Brilliant effort guys!!!</td>\n",
       "      <td>Happy</td>\n",
       "    </tr>\n",
       "    <tr>\n",
       "      <th>7</th>\n",
       "      <td>7</td>\n",
       "      <td>@user @user you point one finger @user million...</td>\n",
       "      <td>Sad</td>\n",
       "    </tr>\n",
       "    <tr>\n",
       "      <th>8</th>\n",
       "      <td>8</td>\n",
       "      <td>words r free, it's how u use that can cost you...</td>\n",
       "      <td>Happy</td>\n",
       "    </tr>\n",
       "    <tr>\n",
       "      <th>9</th>\n",
       "      <td>9</td>\n",
       "      <td>you might be a libtard if... #libtard #sjw #li...</td>\n",
       "      <td>Sad</td>\n",
       "    </tr>\n",
       "  </tbody>\n",
       "</table>\n",
       "</div>"
      ],
      "text/plain": [
       "   Index                                            Comment Polarity\n",
       "0      0             time to eat with my best buddy! #lunch    Happy\n",
       "1      1  @user @user if they want reflection money. #ksleg    Happy\n",
       "2      2  ---Good job but I’ will expect a lot more in f...    Happy\n",
       "3      3  totally dissatisfied with the service###%%@@ n...      Sad\n",
       "4      4                                 loved my work!!!!!    Happy\n",
       "5      5        Worst customer care service......@@$$$angry      Sad\n",
       "6      6                           Brilliant effort guys!!!    Happy\n",
       "7      7  @user @user you point one finger @user million...      Sad\n",
       "8      8  words r free, it's how u use that can cost you...    Happy\n",
       "9      9  you might be a libtard if... #libtard #sjw #li...      Sad"
      ]
     },
     "execution_count": 2,
     "metadata": {},
     "output_type": "execute_result"
    }
   ],
   "source": [
    "trainData = pd.read_csv(\"TrainData.csv\",\"_\")\n",
    "\n",
    "trainData"
   ]
  },
  {
   "cell_type": "markdown",
   "metadata": {},
   "source": [
    "### Reading Test Dataset"
   ]
  },
  {
   "cell_type": "code",
   "execution_count": 3,
   "metadata": {
    "scrolled": true
   },
   "outputs": [
    {
     "data": {
      "text/html": [
       "<div>\n",
       "<style scoped>\n",
       "    .dataframe tbody tr th:only-of-type {\n",
       "        vertical-align: middle;\n",
       "    }\n",
       "\n",
       "    .dataframe tbody tr th {\n",
       "        vertical-align: top;\n",
       "    }\n",
       "\n",
       "    .dataframe thead th {\n",
       "        text-align: right;\n",
       "    }\n",
       "</style>\n",
       "<table border=\"1\" class=\"dataframe\">\n",
       "  <thead>\n",
       "    <tr style=\"text-align: right;\">\n",
       "      <th></th>\n",
       "      <th>Index</th>\n",
       "      <th>Comment</th>\n",
       "      <th>Polarity</th>\n",
       "    </tr>\n",
       "  </thead>\n",
       "  <tbody>\n",
       "    <tr>\n",
       "      <th>0</th>\n",
       "      <td>0</td>\n",
       "      <td>@use the pic says otherwise for young girls co...</td>\n",
       "      <td>Sad</td>\n",
       "    </tr>\n",
       "    <tr>\n",
       "      <th>1</th>\n",
       "      <td>1</td>\n",
       "      <td>#good night! ?? #faith ever #vaitacacommafiasdv</td>\n",
       "      <td>Happy</td>\n",
       "    </tr>\n",
       "    <tr>\n",
       "      <th>2</th>\n",
       "      <td>2</td>\n",
       "      <td>@user when you're blocked by a troll because y...</td>\n",
       "      <td>Sad</td>\n",
       "    </tr>\n",
       "    <tr>\n",
       "      <th>3</th>\n",
       "      <td>3</td>\n",
       "      <td>dinner with sister!!</td>\n",
       "      <td>Happy</td>\n",
       "    </tr>\n",
       "    <tr>\n",
       "      <th>4</th>\n",
       "      <td>4</td>\n",
       "      <td>who else is planning on watching @user tomorrow?</td>\n",
       "      <td>happy</td>\n",
       "    </tr>\n",
       "  </tbody>\n",
       "</table>\n",
       "</div>"
      ],
      "text/plain": [
       "   Index                                            Comment Polarity\n",
       "0      0  @use the pic says otherwise for young girls co...      Sad\n",
       "1      1    #good night! ?? #faith ever #vaitacacommafiasdv    Happy\n",
       "2      2  @user when you're blocked by a troll because y...      Sad\n",
       "3      3                               dinner with sister!!    Happy\n",
       "4      4   who else is planning on watching @user tomorrow?    happy"
      ]
     },
     "execution_count": 3,
     "metadata": {},
     "output_type": "execute_result"
    }
   ],
   "source": [
    "testData = pd.read_csv(\"TestData.csv\",\"_\")\n",
    "\n",
    "testData"
   ]
  },
  {
   "cell_type": "markdown",
   "metadata": {},
   "source": [
    "# PreProcessing Begins"
   ]
  },
  {
   "cell_type": "code",
   "execution_count": 4,
   "metadata": {
    "scrolled": true
   },
   "outputs": [],
   "source": [
    "#Function to remove @user in the data\n",
    "\n",
    "def remove_pattern(text,pattern):\n",
    "    \n",
    "    # re.findall() finds the pattern i.e @user and creating list\n",
    "    r = re.findall(pattern,text)\n",
    "    \n",
    "    # re.sub() removes @user from the sentences in the dataset\n",
    "    for i in r:\n",
    "        text = re.sub(i,\"\",text)\n",
    "    \n",
    "    return text\n",
    "\n"
   ]
  },
  {
   "cell_type": "code",
   "execution_count": 5,
   "metadata": {},
   "outputs": [],
   "source": [
    "#Applying function to both datasets for removing @user\n",
    "\n",
    "trainData['Processed_Comment'] = np.vectorize(remove_pattern)(trainData['Comment'], \"@[\\w]*\")\n",
    "\n",
    "testData['Processed_Comment'] = np.vectorize(remove_pattern)(testData['Comment'], \"@[\\w]*\")\n"
   ]
  },
  {
   "cell_type": "code",
   "execution_count": 6,
   "metadata": {
    "scrolled": true
   },
   "outputs": [
    {
     "data": {
      "text/html": [
       "<div>\n",
       "<style scoped>\n",
       "    .dataframe tbody tr th:only-of-type {\n",
       "        vertical-align: middle;\n",
       "    }\n",
       "\n",
       "    .dataframe tbody tr th {\n",
       "        vertical-align: top;\n",
       "    }\n",
       "\n",
       "    .dataframe thead th {\n",
       "        text-align: right;\n",
       "    }\n",
       "</style>\n",
       "<table border=\"1\" class=\"dataframe\">\n",
       "  <thead>\n",
       "    <tr style=\"text-align: right;\">\n",
       "      <th></th>\n",
       "      <th>Index</th>\n",
       "      <th>Comment</th>\n",
       "      <th>Polarity</th>\n",
       "      <th>Processed_Comment</th>\n",
       "    </tr>\n",
       "  </thead>\n",
       "  <tbody>\n",
       "    <tr>\n",
       "      <th>0</th>\n",
       "      <td>0</td>\n",
       "      <td>time to eat with my best buddy! #lunch</td>\n",
       "      <td>Happy</td>\n",
       "      <td>time to eat with my best buddy   lunch</td>\n",
       "    </tr>\n",
       "    <tr>\n",
       "      <th>1</th>\n",
       "      <td>1</td>\n",
       "      <td>@user @user if they want reflection money. #ksleg</td>\n",
       "      <td>Happy</td>\n",
       "      <td>if they want reflection money   ksleg</td>\n",
       "    </tr>\n",
       "    <tr>\n",
       "      <th>2</th>\n",
       "      <td>2</td>\n",
       "      <td>---Good job but I’ will expect a lot more in f...</td>\n",
       "      <td>Happy</td>\n",
       "      <td>Good job but I  will expect a lot more in f...</td>\n",
       "    </tr>\n",
       "    <tr>\n",
       "      <th>3</th>\n",
       "      <td>3</td>\n",
       "      <td>totally dissatisfied with the service###%%@@ n...</td>\n",
       "      <td>Sad</td>\n",
       "      <td>totally dissatisfied with the service      nev...</td>\n",
       "    </tr>\n",
       "    <tr>\n",
       "      <th>4</th>\n",
       "      <td>4</td>\n",
       "      <td>loved my work!!!!!</td>\n",
       "      <td>Happy</td>\n",
       "      <td>loved my work</td>\n",
       "    </tr>\n",
       "    <tr>\n",
       "      <th>5</th>\n",
       "      <td>5</td>\n",
       "      <td>Worst customer care service......@@$$$angry</td>\n",
       "      <td>Sad</td>\n",
       "      <td>Worst customer care service         angry</td>\n",
       "    </tr>\n",
       "    <tr>\n",
       "      <th>6</th>\n",
       "      <td>6</td>\n",
       "      <td>Brilliant effort guys!!!</td>\n",
       "      <td>Happy</td>\n",
       "      <td>Brilliant effort guys</td>\n",
       "    </tr>\n",
       "    <tr>\n",
       "      <th>7</th>\n",
       "      <td>7</td>\n",
       "      <td>@user @user you point one finger @user million...</td>\n",
       "      <td>Sad</td>\n",
       "      <td>you point one finger  millions are pointed r...</td>\n",
       "    </tr>\n",
       "    <tr>\n",
       "      <th>8</th>\n",
       "      <td>8</td>\n",
       "      <td>words r free, it's how u use that can cost you...</td>\n",
       "      <td>Happy</td>\n",
       "      <td>words r free  it s how u use that can cost you...</td>\n",
       "    </tr>\n",
       "    <tr>\n",
       "      <th>9</th>\n",
       "      <td>9</td>\n",
       "      <td>you might be a libtard if... #libtard #sjw #li...</td>\n",
       "      <td>Sad</td>\n",
       "      <td>you might be a libtard if     libtard  sjw  li...</td>\n",
       "    </tr>\n",
       "  </tbody>\n",
       "</table>\n",
       "</div>"
      ],
      "text/plain": [
       "   Index                                            Comment Polarity  \\\n",
       "0      0             time to eat with my best buddy! #lunch    Happy   \n",
       "1      1  @user @user if they want reflection money. #ksleg    Happy   \n",
       "2      2  ---Good job but I’ will expect a lot more in f...    Happy   \n",
       "3      3  totally dissatisfied with the service###%%@@ n...      Sad   \n",
       "4      4                                 loved my work!!!!!    Happy   \n",
       "5      5        Worst customer care service......@@$$$angry      Sad   \n",
       "6      6                           Brilliant effort guys!!!    Happy   \n",
       "7      7  @user @user you point one finger @user million...      Sad   \n",
       "8      8  words r free, it's how u use that can cost you...    Happy   \n",
       "9      9  you might be a libtard if... #libtard #sjw #li...      Sad   \n",
       "\n",
       "                                   Processed_Comment  \n",
       "0             time to eat with my best buddy   lunch  \n",
       "1              if they want reflection money   ksleg  \n",
       "2     Good job but I  will expect a lot more in f...  \n",
       "3  totally dissatisfied with the service      nev...  \n",
       "4                                 loved my work       \n",
       "5          Worst customer care service         angry  \n",
       "6                           Brilliant effort guys     \n",
       "7    you point one finger  millions are pointed r...  \n",
       "8  words r free  it s how u use that can cost you...  \n",
       "9  you might be a libtard if     libtard  sjw  li...  "
      ]
     },
     "execution_count": 6,
     "metadata": {},
     "output_type": "execute_result"
    }
   ],
   "source": [
    "# Removing everything except text i.e letters/words\n",
    "\n",
    "trainData['Processed_Comment'] = trainData['Processed_Comment'].str.replace(\"[^a-zA-Z]\", \" \")\n",
    "\n",
    "trainData"
   ]
  },
  {
   "cell_type": "code",
   "execution_count": 7,
   "metadata": {},
   "outputs": [
    {
     "data": {
      "text/html": [
       "<div>\n",
       "<style scoped>\n",
       "    .dataframe tbody tr th:only-of-type {\n",
       "        vertical-align: middle;\n",
       "    }\n",
       "\n",
       "    .dataframe tbody tr th {\n",
       "        vertical-align: top;\n",
       "    }\n",
       "\n",
       "    .dataframe thead th {\n",
       "        text-align: right;\n",
       "    }\n",
       "</style>\n",
       "<table border=\"1\" class=\"dataframe\">\n",
       "  <thead>\n",
       "    <tr style=\"text-align: right;\">\n",
       "      <th></th>\n",
       "      <th>Index</th>\n",
       "      <th>Comment</th>\n",
       "      <th>Polarity</th>\n",
       "      <th>Processed_Comment</th>\n",
       "    </tr>\n",
       "  </thead>\n",
       "  <tbody>\n",
       "    <tr>\n",
       "      <th>0</th>\n",
       "      <td>0</td>\n",
       "      <td>@use the pic says otherwise for young girls co...</td>\n",
       "      <td>Sad</td>\n",
       "      <td>the pic says otherwise for young girls confin...</td>\n",
       "    </tr>\n",
       "    <tr>\n",
       "      <th>1</th>\n",
       "      <td>1</td>\n",
       "      <td>#good night! ?? #faith ever #vaitacacommafiasdv</td>\n",
       "      <td>Happy</td>\n",
       "      <td>good night      faith ever  vaitacacommafiasdv</td>\n",
       "    </tr>\n",
       "    <tr>\n",
       "      <th>2</th>\n",
       "      <td>2</td>\n",
       "      <td>@user when you're blocked by a troll because y...</td>\n",
       "      <td>Sad</td>\n",
       "      <td>when you re blocked by a troll because you pr...</td>\n",
       "    </tr>\n",
       "    <tr>\n",
       "      <th>3</th>\n",
       "      <td>3</td>\n",
       "      <td>dinner with sister!!</td>\n",
       "      <td>Happy</td>\n",
       "      <td>dinner with sister</td>\n",
       "    </tr>\n",
       "    <tr>\n",
       "      <th>4</th>\n",
       "      <td>4</td>\n",
       "      <td>who else is planning on watching @user tomorrow?</td>\n",
       "      <td>happy</td>\n",
       "      <td>who else is planning on watching  tomorrow</td>\n",
       "    </tr>\n",
       "  </tbody>\n",
       "</table>\n",
       "</div>"
      ],
      "text/plain": [
       "   Index                                            Comment Polarity  \\\n",
       "0      0  @use the pic says otherwise for young girls co...      Sad   \n",
       "1      1    #good night! ?? #faith ever #vaitacacommafiasdv    Happy   \n",
       "2      2  @user when you're blocked by a troll because y...      Sad   \n",
       "3      3                               dinner with sister!!    Happy   \n",
       "4      4   who else is planning on watching @user tomorrow?    happy   \n",
       "\n",
       "                                   Processed_Comment  \n",
       "0   the pic says otherwise for young girls confin...  \n",
       "1     good night      faith ever  vaitacacommafiasdv  \n",
       "2   when you re blocked by a troll because you pr...  \n",
       "3                               dinner with sister    \n",
       "4        who else is planning on watching  tomorrow   "
      ]
     },
     "execution_count": 7,
     "metadata": {},
     "output_type": "execute_result"
    }
   ],
   "source": [
    "# Removing everything except text i.e letters/words\n",
    "\n",
    "testData['Processed_Comment'] = testData['Processed_Comment'].str.replace(\"[^a-zA-Z]\", \" \")\n",
    "\n",
    "testData"
   ]
  },
  {
   "cell_type": "code",
   "execution_count": 8,
   "metadata": {},
   "outputs": [
    {
     "data": {
      "text/html": [
       "<div>\n",
       "<style scoped>\n",
       "    .dataframe tbody tr th:only-of-type {\n",
       "        vertical-align: middle;\n",
       "    }\n",
       "\n",
       "    .dataframe tbody tr th {\n",
       "        vertical-align: top;\n",
       "    }\n",
       "\n",
       "    .dataframe thead th {\n",
       "        text-align: right;\n",
       "    }\n",
       "</style>\n",
       "<table border=\"1\" class=\"dataframe\">\n",
       "  <thead>\n",
       "    <tr style=\"text-align: right;\">\n",
       "      <th></th>\n",
       "      <th>Index</th>\n",
       "      <th>Comment</th>\n",
       "      <th>Polarity</th>\n",
       "      <th>Processed_Comment</th>\n",
       "    </tr>\n",
       "  </thead>\n",
       "  <tbody>\n",
       "    <tr>\n",
       "      <th>0</th>\n",
       "      <td>0</td>\n",
       "      <td>time to eat with my best buddy! #lunch</td>\n",
       "      <td>Happy</td>\n",
       "      <td>time with best buddy lunch</td>\n",
       "    </tr>\n",
       "    <tr>\n",
       "      <th>1</th>\n",
       "      <td>1</td>\n",
       "      <td>@user @user if they want reflection money. #ksleg</td>\n",
       "      <td>Happy</td>\n",
       "      <td>they want reflection money ksleg</td>\n",
       "    </tr>\n",
       "    <tr>\n",
       "      <th>2</th>\n",
       "      <td>2</td>\n",
       "      <td>---Good job but I’ will expect a lot more in f...</td>\n",
       "      <td>Happy</td>\n",
       "      <td>Good will expect more future</td>\n",
       "    </tr>\n",
       "    <tr>\n",
       "      <th>3</th>\n",
       "      <td>3</td>\n",
       "      <td>totally dissatisfied with the service###%%@@ n...</td>\n",
       "      <td>Sad</td>\n",
       "      <td>totally dissatisfied with service never used t...</td>\n",
       "    </tr>\n",
       "    <tr>\n",
       "      <th>4</th>\n",
       "      <td>4</td>\n",
       "      <td>loved my work!!!!!</td>\n",
       "      <td>Happy</td>\n",
       "      <td>loved work</td>\n",
       "    </tr>\n",
       "    <tr>\n",
       "      <th>5</th>\n",
       "      <td>5</td>\n",
       "      <td>Worst customer care service......@@$$$angry</td>\n",
       "      <td>Sad</td>\n",
       "      <td>Worst customer care service angry</td>\n",
       "    </tr>\n",
       "    <tr>\n",
       "      <th>6</th>\n",
       "      <td>6</td>\n",
       "      <td>Brilliant effort guys!!!</td>\n",
       "      <td>Happy</td>\n",
       "      <td>Brilliant effort guys</td>\n",
       "    </tr>\n",
       "    <tr>\n",
       "      <th>7</th>\n",
       "      <td>7</td>\n",
       "      <td>@user @user you point one finger @user million...</td>\n",
       "      <td>Sad</td>\n",
       "      <td>point finger millions pointed right back jewis...</td>\n",
       "    </tr>\n",
       "    <tr>\n",
       "      <th>8</th>\n",
       "      <td>8</td>\n",
       "      <td>words r free, it's how u use that can cost you...</td>\n",
       "      <td>Happy</td>\n",
       "      <td>words free that cost verbal abuse love adult teen</td>\n",
       "    </tr>\n",
       "    <tr>\n",
       "      <th>9</th>\n",
       "      <td>9</td>\n",
       "      <td>you might be a libtard if... #libtard #sjw #li...</td>\n",
       "      <td>Sad</td>\n",
       "      <td>might libtard libtard liberal politics</td>\n",
       "    </tr>\n",
       "  </tbody>\n",
       "</table>\n",
       "</div>"
      ],
      "text/plain": [
       "   Index                                            Comment Polarity  \\\n",
       "0      0             time to eat with my best buddy! #lunch    Happy   \n",
       "1      1  @user @user if they want reflection money. #ksleg    Happy   \n",
       "2      2  ---Good job but I’ will expect a lot more in f...    Happy   \n",
       "3      3  totally dissatisfied with the service###%%@@ n...      Sad   \n",
       "4      4                                 loved my work!!!!!    Happy   \n",
       "5      5        Worst customer care service......@@$$$angry      Sad   \n",
       "6      6                           Brilliant effort guys!!!    Happy   \n",
       "7      7  @user @user you point one finger @user million...      Sad   \n",
       "8      8  words r free, it's how u use that can cost you...    Happy   \n",
       "9      9  you might be a libtard if... #libtard #sjw #li...      Sad   \n",
       "\n",
       "                                   Processed_Comment  \n",
       "0                         time with best buddy lunch  \n",
       "1                   they want reflection money ksleg  \n",
       "2                       Good will expect more future  \n",
       "3  totally dissatisfied with service never used t...  \n",
       "4                                         loved work  \n",
       "5                  Worst customer care service angry  \n",
       "6                              Brilliant effort guys  \n",
       "7  point finger millions pointed right back jewis...  \n",
       "8  words free that cost verbal abuse love adult teen  \n",
       "9             might libtard libtard liberal politics  "
      ]
     },
     "execution_count": 8,
     "metadata": {},
     "output_type": "execute_result"
    }
   ],
   "source": [
    "#Removing Short Words\n",
    "trainData['Processed_Comment'] = trainData['Processed_Comment'].apply(lambda x: ' '.join([w for w in x.split() if len(w)>3]))\n",
    "\n",
    "trainData"
   ]
  },
  {
   "cell_type": "code",
   "execution_count": 9,
   "metadata": {
    "scrolled": true
   },
   "outputs": [
    {
     "data": {
      "text/html": [
       "<div>\n",
       "<style scoped>\n",
       "    .dataframe tbody tr th:only-of-type {\n",
       "        vertical-align: middle;\n",
       "    }\n",
       "\n",
       "    .dataframe tbody tr th {\n",
       "        vertical-align: top;\n",
       "    }\n",
       "\n",
       "    .dataframe thead th {\n",
       "        text-align: right;\n",
       "    }\n",
       "</style>\n",
       "<table border=\"1\" class=\"dataframe\">\n",
       "  <thead>\n",
       "    <tr style=\"text-align: right;\">\n",
       "      <th></th>\n",
       "      <th>Index</th>\n",
       "      <th>Comment</th>\n",
       "      <th>Polarity</th>\n",
       "      <th>Processed_Comment</th>\n",
       "    </tr>\n",
       "  </thead>\n",
       "  <tbody>\n",
       "    <tr>\n",
       "      <th>0</th>\n",
       "      <td>0</td>\n",
       "      <td>@use the pic says otherwise for young girls co...</td>\n",
       "      <td>Sad</td>\n",
       "      <td>says otherwise young girls confined that kitch...</td>\n",
       "    </tr>\n",
       "    <tr>\n",
       "      <th>1</th>\n",
       "      <td>1</td>\n",
       "      <td>#good night! ?? #faith ever #vaitacacommafiasdv</td>\n",
       "      <td>Happy</td>\n",
       "      <td>good night faith ever vaitacacommafiasdv</td>\n",
       "    </tr>\n",
       "    <tr>\n",
       "      <th>2</th>\n",
       "      <td>2</td>\n",
       "      <td>@user when you're blocked by a troll because y...</td>\n",
       "      <td>Sad</td>\n",
       "      <td>when blocked troll because promise blacklivesm...</td>\n",
       "    </tr>\n",
       "    <tr>\n",
       "      <th>3</th>\n",
       "      <td>3</td>\n",
       "      <td>dinner with sister!!</td>\n",
       "      <td>Happy</td>\n",
       "      <td>dinner with sister</td>\n",
       "    </tr>\n",
       "    <tr>\n",
       "      <th>4</th>\n",
       "      <td>4</td>\n",
       "      <td>who else is planning on watching @user tomorrow?</td>\n",
       "      <td>happy</td>\n",
       "      <td>else planning watching tomorrow</td>\n",
       "    </tr>\n",
       "  </tbody>\n",
       "</table>\n",
       "</div>"
      ],
      "text/plain": [
       "   Index                                            Comment Polarity  \\\n",
       "0      0  @use the pic says otherwise for young girls co...      Sad   \n",
       "1      1    #good night! ?? #faith ever #vaitacacommafiasdv    Happy   \n",
       "2      2  @user when you're blocked by a troll because y...      Sad   \n",
       "3      3                               dinner with sister!!    Happy   \n",
       "4      4   who else is planning on watching @user tomorrow?    happy   \n",
       "\n",
       "                                   Processed_Comment  \n",
       "0  says otherwise young girls confined that kitch...  \n",
       "1           good night faith ever vaitacacommafiasdv  \n",
       "2  when blocked troll because promise blacklivesm...  \n",
       "3                                 dinner with sister  \n",
       "4                    else planning watching tomorrow  "
      ]
     },
     "execution_count": 9,
     "metadata": {},
     "output_type": "execute_result"
    }
   ],
   "source": [
    "#Removing Short Words\n",
    "testData['Processed_Comment'] = testData['Processed_Comment'].apply(lambda x: ' '.join([w for w in x.split() if len(w)>3]))\n",
    "\n",
    "testData"
   ]
  },
  {
   "cell_type": "raw",
   "metadata": {},
   "source": [
    "Making sure that all Happy and Sad are same"
   ]
  },
  {
   "cell_type": "code",
   "execution_count": 10,
   "metadata": {},
   "outputs": [
    {
     "data": {
      "text/html": [
       "<div>\n",
       "<style scoped>\n",
       "    .dataframe tbody tr th:only-of-type {\n",
       "        vertical-align: middle;\n",
       "    }\n",
       "\n",
       "    .dataframe tbody tr th {\n",
       "        vertical-align: top;\n",
       "    }\n",
       "\n",
       "    .dataframe thead th {\n",
       "        text-align: right;\n",
       "    }\n",
       "</style>\n",
       "<table border=\"1\" class=\"dataframe\">\n",
       "  <thead>\n",
       "    <tr style=\"text-align: right;\">\n",
       "      <th></th>\n",
       "      <th>Index</th>\n",
       "      <th>Comment</th>\n",
       "      <th>Polarity</th>\n",
       "      <th>Processed_Comment</th>\n",
       "    </tr>\n",
       "  </thead>\n",
       "  <tbody>\n",
       "    <tr>\n",
       "      <th>0</th>\n",
       "      <td>0</td>\n",
       "      <td>time to eat with my best buddy! #lunch</td>\n",
       "      <td>Happy</td>\n",
       "      <td>time with best buddy lunch</td>\n",
       "    </tr>\n",
       "    <tr>\n",
       "      <th>1</th>\n",
       "      <td>1</td>\n",
       "      <td>@user @user if they want reflection money. #ksleg</td>\n",
       "      <td>Happy</td>\n",
       "      <td>they want reflection money ksleg</td>\n",
       "    </tr>\n",
       "    <tr>\n",
       "      <th>2</th>\n",
       "      <td>2</td>\n",
       "      <td>---Good job but I’ will expect a lot more in f...</td>\n",
       "      <td>Happy</td>\n",
       "      <td>Good will expect more future</td>\n",
       "    </tr>\n",
       "    <tr>\n",
       "      <th>3</th>\n",
       "      <td>3</td>\n",
       "      <td>totally dissatisfied with the service###%%@@ n...</td>\n",
       "      <td>Sad</td>\n",
       "      <td>totally dissatisfied with service never used t...</td>\n",
       "    </tr>\n",
       "    <tr>\n",
       "      <th>4</th>\n",
       "      <td>4</td>\n",
       "      <td>loved my work!!!!!</td>\n",
       "      <td>Happy</td>\n",
       "      <td>loved work</td>\n",
       "    </tr>\n",
       "    <tr>\n",
       "      <th>5</th>\n",
       "      <td>5</td>\n",
       "      <td>Worst customer care service......@@$$$angry</td>\n",
       "      <td>Sad</td>\n",
       "      <td>Worst customer care service angry</td>\n",
       "    </tr>\n",
       "    <tr>\n",
       "      <th>6</th>\n",
       "      <td>6</td>\n",
       "      <td>Brilliant effort guys!!!</td>\n",
       "      <td>Happy</td>\n",
       "      <td>Brilliant effort guys</td>\n",
       "    </tr>\n",
       "    <tr>\n",
       "      <th>7</th>\n",
       "      <td>7</td>\n",
       "      <td>@user @user you point one finger @user million...</td>\n",
       "      <td>Sad</td>\n",
       "      <td>point finger millions pointed right back jewis...</td>\n",
       "    </tr>\n",
       "    <tr>\n",
       "      <th>8</th>\n",
       "      <td>8</td>\n",
       "      <td>words r free, it's how u use that can cost you...</td>\n",
       "      <td>Happy</td>\n",
       "      <td>words free that cost verbal abuse love adult teen</td>\n",
       "    </tr>\n",
       "    <tr>\n",
       "      <th>9</th>\n",
       "      <td>9</td>\n",
       "      <td>you might be a libtard if... #libtard #sjw #li...</td>\n",
       "      <td>Sad</td>\n",
       "      <td>might libtard libtard liberal politics</td>\n",
       "    </tr>\n",
       "  </tbody>\n",
       "</table>\n",
       "</div>"
      ],
      "text/plain": [
       "   Index                                            Comment Polarity  \\\n",
       "0      0             time to eat with my best buddy! #lunch    Happy   \n",
       "1      1  @user @user if they want reflection money. #ksleg    Happy   \n",
       "2      2  ---Good job but I’ will expect a lot more in f...    Happy   \n",
       "3      3  totally dissatisfied with the service###%%@@ n...      Sad   \n",
       "4      4                                 loved my work!!!!!    Happy   \n",
       "5      5        Worst customer care service......@@$$$angry      Sad   \n",
       "6      6                           Brilliant effort guys!!!    Happy   \n",
       "7      7  @user @user you point one finger @user million...      Sad   \n",
       "8      8  words r free, it's how u use that can cost you...    Happy   \n",
       "9      9  you might be a libtard if... #libtard #sjw #li...      Sad   \n",
       "\n",
       "                                   Processed_Comment  \n",
       "0                         time with best buddy lunch  \n",
       "1                   they want reflection money ksleg  \n",
       "2                       Good will expect more future  \n",
       "3  totally dissatisfied with service never used t...  \n",
       "4                                         loved work  \n",
       "5                  Worst customer care service angry  \n",
       "6                              Brilliant effort guys  \n",
       "7  point finger millions pointed right back jewis...  \n",
       "8  words free that cost verbal abuse love adult teen  \n",
       "9             might libtard libtard liberal politics  "
      ]
     },
     "execution_count": 10,
     "metadata": {},
     "output_type": "execute_result"
    }
   ],
   "source": [
    "trainData['Polarity'] = trainData['Polarity'].apply(lambda x: x.capitalize())\n",
    "\n",
    "trainData"
   ]
  },
  {
   "cell_type": "code",
   "execution_count": 11,
   "metadata": {},
   "outputs": [
    {
     "data": {
      "text/html": [
       "<div>\n",
       "<style scoped>\n",
       "    .dataframe tbody tr th:only-of-type {\n",
       "        vertical-align: middle;\n",
       "    }\n",
       "\n",
       "    .dataframe tbody tr th {\n",
       "        vertical-align: top;\n",
       "    }\n",
       "\n",
       "    .dataframe thead th {\n",
       "        text-align: right;\n",
       "    }\n",
       "</style>\n",
       "<table border=\"1\" class=\"dataframe\">\n",
       "  <thead>\n",
       "    <tr style=\"text-align: right;\">\n",
       "      <th></th>\n",
       "      <th>Index</th>\n",
       "      <th>Comment</th>\n",
       "      <th>Polarity</th>\n",
       "      <th>Processed_Comment</th>\n",
       "    </tr>\n",
       "  </thead>\n",
       "  <tbody>\n",
       "    <tr>\n",
       "      <th>0</th>\n",
       "      <td>0</td>\n",
       "      <td>@use the pic says otherwise for young girls co...</td>\n",
       "      <td>Sad</td>\n",
       "      <td>says otherwise young girls confined that kitch...</td>\n",
       "    </tr>\n",
       "    <tr>\n",
       "      <th>1</th>\n",
       "      <td>1</td>\n",
       "      <td>#good night! ?? #faith ever #vaitacacommafiasdv</td>\n",
       "      <td>Happy</td>\n",
       "      <td>good night faith ever vaitacacommafiasdv</td>\n",
       "    </tr>\n",
       "    <tr>\n",
       "      <th>2</th>\n",
       "      <td>2</td>\n",
       "      <td>@user when you're blocked by a troll because y...</td>\n",
       "      <td>Sad</td>\n",
       "      <td>when blocked troll because promise blacklivesm...</td>\n",
       "    </tr>\n",
       "    <tr>\n",
       "      <th>3</th>\n",
       "      <td>3</td>\n",
       "      <td>dinner with sister!!</td>\n",
       "      <td>Happy</td>\n",
       "      <td>dinner with sister</td>\n",
       "    </tr>\n",
       "    <tr>\n",
       "      <th>4</th>\n",
       "      <td>4</td>\n",
       "      <td>who else is planning on watching @user tomorrow?</td>\n",
       "      <td>Happy</td>\n",
       "      <td>else planning watching tomorrow</td>\n",
       "    </tr>\n",
       "  </tbody>\n",
       "</table>\n",
       "</div>"
      ],
      "text/plain": [
       "   Index                                            Comment Polarity  \\\n",
       "0      0  @use the pic says otherwise for young girls co...      Sad   \n",
       "1      1    #good night! ?? #faith ever #vaitacacommafiasdv    Happy   \n",
       "2      2  @user when you're blocked by a troll because y...      Sad   \n",
       "3      3                               dinner with sister!!    Happy   \n",
       "4      4   who else is planning on watching @user tomorrow?    Happy   \n",
       "\n",
       "                                   Processed_Comment  \n",
       "0  says otherwise young girls confined that kitch...  \n",
       "1           good night faith ever vaitacacommafiasdv  \n",
       "2  when blocked troll because promise blacklivesm...  \n",
       "3                                 dinner with sister  \n",
       "4                    else planning watching tomorrow  "
      ]
     },
     "execution_count": 11,
     "metadata": {},
     "output_type": "execute_result"
    }
   ],
   "source": [
    "testData['Polarity'] = testData['Polarity'].apply(lambda x: x.capitalize())\n",
    "\n",
    "testData"
   ]
  },
  {
   "cell_type": "markdown",
   "metadata": {},
   "source": [
    "### Label Encoding for Train/Test Data"
   ]
  },
  {
   "cell_type": "code",
   "execution_count": 12,
   "metadata": {},
   "outputs": [],
   "source": [
    "def labelEncoder(polarity):\n",
    "    if(polarity == 'Happy'):\n",
    "        return 1\n",
    "    return 0"
   ]
  },
  {
   "cell_type": "code",
   "execution_count": 13,
   "metadata": {},
   "outputs": [
    {
     "data": {
      "text/html": [
       "<div>\n",
       "<style scoped>\n",
       "    .dataframe tbody tr th:only-of-type {\n",
       "        vertical-align: middle;\n",
       "    }\n",
       "\n",
       "    .dataframe tbody tr th {\n",
       "        vertical-align: top;\n",
       "    }\n",
       "\n",
       "    .dataframe thead th {\n",
       "        text-align: right;\n",
       "    }\n",
       "</style>\n",
       "<table border=\"1\" class=\"dataframe\">\n",
       "  <thead>\n",
       "    <tr style=\"text-align: right;\">\n",
       "      <th></th>\n",
       "      <th>Index</th>\n",
       "      <th>Comment</th>\n",
       "      <th>Polarity</th>\n",
       "      <th>Processed_Comment</th>\n",
       "    </tr>\n",
       "  </thead>\n",
       "  <tbody>\n",
       "    <tr>\n",
       "      <th>0</th>\n",
       "      <td>0</td>\n",
       "      <td>time to eat with my best buddy! #lunch</td>\n",
       "      <td>1</td>\n",
       "      <td>time with best buddy lunch</td>\n",
       "    </tr>\n",
       "    <tr>\n",
       "      <th>1</th>\n",
       "      <td>1</td>\n",
       "      <td>@user @user if they want reflection money. #ksleg</td>\n",
       "      <td>1</td>\n",
       "      <td>they want reflection money ksleg</td>\n",
       "    </tr>\n",
       "    <tr>\n",
       "      <th>2</th>\n",
       "      <td>2</td>\n",
       "      <td>---Good job but I’ will expect a lot more in f...</td>\n",
       "      <td>1</td>\n",
       "      <td>Good will expect more future</td>\n",
       "    </tr>\n",
       "    <tr>\n",
       "      <th>3</th>\n",
       "      <td>3</td>\n",
       "      <td>totally dissatisfied with the service###%%@@ n...</td>\n",
       "      <td>0</td>\n",
       "      <td>totally dissatisfied with service never used t...</td>\n",
       "    </tr>\n",
       "    <tr>\n",
       "      <th>4</th>\n",
       "      <td>4</td>\n",
       "      <td>loved my work!!!!!</td>\n",
       "      <td>1</td>\n",
       "      <td>loved work</td>\n",
       "    </tr>\n",
       "    <tr>\n",
       "      <th>5</th>\n",
       "      <td>5</td>\n",
       "      <td>Worst customer care service......@@$$$angry</td>\n",
       "      <td>0</td>\n",
       "      <td>Worst customer care service angry</td>\n",
       "    </tr>\n",
       "    <tr>\n",
       "      <th>6</th>\n",
       "      <td>6</td>\n",
       "      <td>Brilliant effort guys!!!</td>\n",
       "      <td>1</td>\n",
       "      <td>Brilliant effort guys</td>\n",
       "    </tr>\n",
       "    <tr>\n",
       "      <th>7</th>\n",
       "      <td>7</td>\n",
       "      <td>@user @user you point one finger @user million...</td>\n",
       "      <td>0</td>\n",
       "      <td>point finger millions pointed right back jewis...</td>\n",
       "    </tr>\n",
       "    <tr>\n",
       "      <th>8</th>\n",
       "      <td>8</td>\n",
       "      <td>words r free, it's how u use that can cost you...</td>\n",
       "      <td>1</td>\n",
       "      <td>words free that cost verbal abuse love adult teen</td>\n",
       "    </tr>\n",
       "    <tr>\n",
       "      <th>9</th>\n",
       "      <td>9</td>\n",
       "      <td>you might be a libtard if... #libtard #sjw #li...</td>\n",
       "      <td>0</td>\n",
       "      <td>might libtard libtard liberal politics</td>\n",
       "    </tr>\n",
       "  </tbody>\n",
       "</table>\n",
       "</div>"
      ],
      "text/plain": [
       "   Index                                            Comment  Polarity  \\\n",
       "0      0             time to eat with my best buddy! #lunch         1   \n",
       "1      1  @user @user if they want reflection money. #ksleg         1   \n",
       "2      2  ---Good job but I’ will expect a lot more in f...         1   \n",
       "3      3  totally dissatisfied with the service###%%@@ n...         0   \n",
       "4      4                                 loved my work!!!!!         1   \n",
       "5      5        Worst customer care service......@@$$$angry         0   \n",
       "6      6                           Brilliant effort guys!!!         1   \n",
       "7      7  @user @user you point one finger @user million...         0   \n",
       "8      8  words r free, it's how u use that can cost you...         1   \n",
       "9      9  you might be a libtard if... #libtard #sjw #li...         0   \n",
       "\n",
       "                                   Processed_Comment  \n",
       "0                         time with best buddy lunch  \n",
       "1                   they want reflection money ksleg  \n",
       "2                       Good will expect more future  \n",
       "3  totally dissatisfied with service never used t...  \n",
       "4                                         loved work  \n",
       "5                  Worst customer care service angry  \n",
       "6                              Brilliant effort guys  \n",
       "7  point finger millions pointed right back jewis...  \n",
       "8  words free that cost verbal abuse love adult teen  \n",
       "9             might libtard libtard liberal politics  "
      ]
     },
     "execution_count": 13,
     "metadata": {},
     "output_type": "execute_result"
    }
   ],
   "source": [
    "trainData['Polarity'] = trainData['Polarity'].apply(lambda x: labelEncoder(x))\n",
    "\n",
    "trainData"
   ]
  },
  {
   "cell_type": "code",
   "execution_count": 14,
   "metadata": {
    "scrolled": true
   },
   "outputs": [
    {
     "data": {
      "text/html": [
       "<div>\n",
       "<style scoped>\n",
       "    .dataframe tbody tr th:only-of-type {\n",
       "        vertical-align: middle;\n",
       "    }\n",
       "\n",
       "    .dataframe tbody tr th {\n",
       "        vertical-align: top;\n",
       "    }\n",
       "\n",
       "    .dataframe thead th {\n",
       "        text-align: right;\n",
       "    }\n",
       "</style>\n",
       "<table border=\"1\" class=\"dataframe\">\n",
       "  <thead>\n",
       "    <tr style=\"text-align: right;\">\n",
       "      <th></th>\n",
       "      <th>Index</th>\n",
       "      <th>Comment</th>\n",
       "      <th>Polarity</th>\n",
       "      <th>Processed_Comment</th>\n",
       "    </tr>\n",
       "  </thead>\n",
       "  <tbody>\n",
       "    <tr>\n",
       "      <th>0</th>\n",
       "      <td>0</td>\n",
       "      <td>@use the pic says otherwise for young girls co...</td>\n",
       "      <td>0</td>\n",
       "      <td>says otherwise young girls confined that kitch...</td>\n",
       "    </tr>\n",
       "    <tr>\n",
       "      <th>1</th>\n",
       "      <td>1</td>\n",
       "      <td>#good night! ?? #faith ever #vaitacacommafiasdv</td>\n",
       "      <td>1</td>\n",
       "      <td>good night faith ever vaitacacommafiasdv</td>\n",
       "    </tr>\n",
       "    <tr>\n",
       "      <th>2</th>\n",
       "      <td>2</td>\n",
       "      <td>@user when you're blocked by a troll because y...</td>\n",
       "      <td>0</td>\n",
       "      <td>when blocked troll because promise blacklivesm...</td>\n",
       "    </tr>\n",
       "    <tr>\n",
       "      <th>3</th>\n",
       "      <td>3</td>\n",
       "      <td>dinner with sister!!</td>\n",
       "      <td>1</td>\n",
       "      <td>dinner with sister</td>\n",
       "    </tr>\n",
       "    <tr>\n",
       "      <th>4</th>\n",
       "      <td>4</td>\n",
       "      <td>who else is planning on watching @user tomorrow?</td>\n",
       "      <td>1</td>\n",
       "      <td>else planning watching tomorrow</td>\n",
       "    </tr>\n",
       "  </tbody>\n",
       "</table>\n",
       "</div>"
      ],
      "text/plain": [
       "   Index                                            Comment  Polarity  \\\n",
       "0      0  @use the pic says otherwise for young girls co...         0   \n",
       "1      1    #good night! ?? #faith ever #vaitacacommafiasdv         1   \n",
       "2      2  @user when you're blocked by a troll because y...         0   \n",
       "3      3                               dinner with sister!!         1   \n",
       "4      4   who else is planning on watching @user tomorrow?         1   \n",
       "\n",
       "                                   Processed_Comment  \n",
       "0  says otherwise young girls confined that kitch...  \n",
       "1           good night faith ever vaitacacommafiasdv  \n",
       "2  when blocked troll because promise blacklivesm...  \n",
       "3                                 dinner with sister  \n",
       "4                    else planning watching tomorrow  "
      ]
     },
     "execution_count": 14,
     "metadata": {},
     "output_type": "execute_result"
    }
   ],
   "source": [
    "testData['Polarity'] = testData['Polarity'].apply(lambda x: labelEncoder(x))\n",
    "\n",
    "testData"
   ]
  },
  {
   "cell_type": "markdown",
   "metadata": {},
   "source": [
    "### Tokanizing Comments of train data"
   ]
  },
  {
   "cell_type": "code",
   "execution_count": 15,
   "metadata": {
    "scrolled": true
   },
   "outputs": [
    {
     "data": {
      "text/plain": [
       "0                     [time, with, best, buddy, lunch]\n",
       "1               [they, want, reflection, money, ksleg]\n",
       "2                   [Good, will, expect, more, future]\n",
       "3    [totally, dissatisfied, with, service, never, ...\n",
       "4                                        [loved, work]\n",
       "5              [Worst, customer, care, service, angry]\n",
       "6                            [Brilliant, effort, guys]\n",
       "7    [point, finger, millions, pointed, right, back...\n",
       "8    [words, free, that, cost, verbal, abuse, love,...\n",
       "9         [might, libtard, libtard, liberal, politics]\n",
       "Name: Processed_Comment, dtype: object"
      ]
     },
     "execution_count": 15,
     "metadata": {},
     "output_type": "execute_result"
    }
   ],
   "source": [
    "tokenized_trainComment = trainData['Processed_Comment'].apply(lambda x: x.split())\n",
    "\n",
    "tokenized_trainComment"
   ]
  },
  {
   "cell_type": "markdown",
   "metadata": {},
   "source": [
    "### POS Tagging"
   ]
  },
  {
   "cell_type": "code",
   "execution_count": 46,
   "metadata": {},
   "outputs": [
    {
     "data": {
      "text/plain": [
       "[('time', 'NN'),\n",
       " ('with', 'IN'),\n",
       " ('best', 'JJS'),\n",
       " ('buddy', 'NN'),\n",
       " ('lunch', 'NN'),\n",
       " ('they', 'PRP'),\n",
       " ('want', 'VBP'),\n",
       " ('reflection', 'NN'),\n",
       " ('money', 'NN'),\n",
       " ('ksleg', 'NN'),\n",
       " ('Good', 'NNP'),\n",
       " ('will', 'MD'),\n",
       " ('expect', 'VB'),\n",
       " ('more', 'JJR'),\n",
       " ('future', 'JJ'),\n",
       " ('totally', 'RB'),\n",
       " ('dissatisfied', 'JJ'),\n",
       " ('service', 'NN'),\n",
       " ('never', 'RB'),\n",
       " ('used', 'VBD'),\n",
       " ('this', 'DT'),\n",
       " ('again', 'RB'),\n",
       " ('loved', 'VBN'),\n",
       " ('work', 'NN'),\n",
       " ('Worst', 'NNP'),\n",
       " ('customer', 'NN'),\n",
       " ('care', 'NN'),\n",
       " ('angry', 'JJ'),\n",
       " ('Brilliant', 'JJ'),\n",
       " ('effort', 'NN'),\n",
       " ('guys', 'NNS'),\n",
       " ('point', 'NN'),\n",
       " ('finger', 'NN'),\n",
       " ('millions', 'NNS'),\n",
       " ('pointed', 'VBD'),\n",
       " ('right', 'JJ'),\n",
       " ('back', 'RB'),\n",
       " ('jewishsupremacist', 'NN'),\n",
       " ('words', 'NNS'),\n",
       " ('free', 'VBP'),\n",
       " ('that', 'IN'),\n",
       " ('cost', 'NN'),\n",
       " ('verbal', 'JJ'),\n",
       " ('abuse', 'NN'),\n",
       " ('love', 'NN'),\n",
       " ('adult', 'NN'),\n",
       " ('teen', 'NN'),\n",
       " ('might', 'MD'),\n",
       " ('libtard', 'RB'),\n",
       " ('libtard', 'VB'),\n",
       " ('liberal', 'JJ'),\n",
       " ('politics', 'NNS')]"
      ]
     },
     "execution_count": 46,
     "metadata": {},
     "output_type": "execute_result"
    }
   ],
   "source": [
    "#nltk.download('punkt')\n",
    "#nltk.download('averaged_perceptron_tagger')\n",
    "trainDataList = trainData['Processed_Comment'].tolist()\n",
    "taggedList = list()\n",
    "posList = list()\n",
    "\n",
    "for sentence in trainDataList:\n",
    "        tokenized = nltk.word_tokenize(sentence)\n",
    "        taggedList.append(nltk.pos_tag(tokenized))\n",
    "  \n",
    "#removing repititions\n",
    "for tList in taggedList:\n",
    "    for word_tuple in tList:\n",
    "        if word_tuple not in posList:\n",
    "            posList.append(word_tuple)\n",
    "        \n",
    "posList"
   ]
  },
  {
   "cell_type": "markdown",
   "metadata": {},
   "source": [
    "#### Removing additional letters such as ed, 's etc."
   ]
  },
  {
   "cell_type": "code",
   "execution_count": null,
   "metadata": {},
   "outputs": [],
   "source": [
    "ps = PorterStemmer()\n",
    "\n",
    "tokenized_trainComment = tokenized_trainComment.apply(lambda x: [ps.stem(i) for i in x])\n",
    "\n",
    "tokenized_trainComment"
   ]
  },
  {
   "cell_type": "markdown",
   "metadata": {},
   "source": [
    "#### Replacing old Processed comments"
   ]
  },
  {
   "cell_type": "code",
   "execution_count": null,
   "metadata": {
    "scrolled": true
   },
   "outputs": [],
   "source": [
    "for i in range(len(tokenized_trainComment)):\n",
    "    tokenized_trainComment[i] = ' '.join(tokenized_trainComment[i])\n",
    "\n",
    "trainData['Processed_Comment'] = tokenized_trainComment\n",
    "\n",
    "trainData"
   ]
  },
  {
   "cell_type": "markdown",
   "metadata": {},
   "source": [
    "### Tokanizing Comments of Test Data"
   ]
  },
  {
   "cell_type": "code",
   "execution_count": 38,
   "metadata": {},
   "outputs": [
    {
     "data": {
      "text/plain": [
       "0    [says, otherwise, young, girls, confined, that...\n",
       "1       [good, night, faith, ever, vaitacacommafiasdv]\n",
       "2    [when, blocked, troll, because, promise, black...\n",
       "3                               [dinner, with, sister]\n",
       "4                 [else, planning, watching, tomorrow]\n",
       "Name: Processed_Comment, dtype: object"
      ]
     },
     "execution_count": 38,
     "metadata": {},
     "output_type": "execute_result"
    }
   ],
   "source": [
    "tokenized_testComment = testData[\"Processed_Comment\"].apply(lambda x: x.split())\n",
    "\n",
    "tokenized_testComment"
   ]
  },
  {
   "cell_type": "markdown",
   "metadata": {},
   "source": [
    "### POS Tagging"
   ]
  },
  {
   "cell_type": "code",
   "execution_count": 45,
   "metadata": {},
   "outputs": [
    {
     "data": {
      "text/plain": [
       "[('says', 'VBZ'),\n",
       " ('otherwise', 'RB'),\n",
       " ('young', 'JJ'),\n",
       " ('girls', 'NNS'),\n",
       " ('confined', 'VBD'),\n",
       " ('that', 'IN'),\n",
       " ('kitchen', 'NN'),\n",
       " ('void', 'NN'),\n",
       " ('meaning', 'VBG'),\n",
       " ('beyond', 'IN'),\n",
       " ('cheap', 'JJ'),\n",
       " ('publicity', 'NN'),\n",
       " ('topoli', 'NN'),\n",
       " ('good', 'JJ'),\n",
       " ('night', 'NN'),\n",
       " ('faith', 'NN'),\n",
       " ('ever', 'RB'),\n",
       " ('vaitacacommafiasdv', 'VBD'),\n",
       " ('when', 'WRB'),\n",
       " ('blocked', 'VBN'),\n",
       " ('troll', 'NN'),\n",
       " ('because', 'IN'),\n",
       " ('promise', 'NN'),\n",
       " ('blacklivesmatter', 'NN'),\n",
       " ('nonsensical', 'JJ'),\n",
       " ('rants', 'NNS'),\n",
       " ('dinner', 'NN'),\n",
       " ('with', 'IN'),\n",
       " ('sister', 'NN'),\n",
       " ('else', 'RB'),\n",
       " ('planning', 'VBG'),\n",
       " ('watching', 'VBG'),\n",
       " ('tomorrow', 'NN')]"
      ]
     },
     "execution_count": 45,
     "metadata": {},
     "output_type": "execute_result"
    }
   ],
   "source": [
    "#nltk.download('punkt')\n",
    "#nltk.download('averaged_perceptron_tagger')\n",
    "testDataList = testData['Processed_Comment'].tolist()\n",
    "taggedList = list()\n",
    "posList = list()\n",
    "\n",
    "for sentence in testDataList:\n",
    "        tokenized = nltk.word_tokenize(sentence)\n",
    "        taggedList.append(nltk.pos_tag(tokenized))\n",
    "  \n",
    "#removing repititions\n",
    "for tList in taggedList:\n",
    "    for word_tuple in tList:\n",
    "        if word_tuple not in posList:\n",
    "            posList.append(word_tuple)\n",
    "        \n",
    "posList"
   ]
  },
  {
   "cell_type": "markdown",
   "metadata": {},
   "source": [
    "#### Removing additional letters such as ed, 's etc."
   ]
  },
  {
   "cell_type": "code",
   "execution_count": null,
   "metadata": {},
   "outputs": [],
   "source": [
    "ps = PorterStemmer()\n",
    "\n",
    "tokenized_testComment = tokenized_testComment.apply(lambda x : [ps.stem(i) for i in x])\n",
    "\n",
    "\n",
    "tokenized_testComment"
   ]
  },
  {
   "cell_type": "markdown",
   "metadata": {},
   "source": [
    "#### Replacing old Processed comments\n"
   ]
  },
  {
   "cell_type": "code",
   "execution_count": null,
   "metadata": {},
   "outputs": [],
   "source": [
    "for i in range(len(tokenized_testComment)):\n",
    "    tokenized_testComment[i] = ' '.join(tokenized_testComment[i])\n",
    "    \n",
    "testData['Processed_Comment'] = tokenized_testComment\n",
    "    \n",
    "testData"
   ]
  },
  {
   "cell_type": "markdown",
   "metadata": {},
   "source": [
    "## Feature Extraction from Train Data"
   ]
  },
  {
   "cell_type": "markdown",
   "metadata": {},
   "source": [
    "### Bag of Words"
   ]
  },
  {
   "cell_type": "code",
   "execution_count": null,
   "metadata": {},
   "outputs": [],
   "source": [
    "cv= CountVectorizer()\n",
    "\n",
    "bag_of_words_train = cv.fit_transform(trainData['Processed_Comment']).toarray()\n",
    "\n",
    "print(cv.vocabulary_)\n",
    "\n",
    "print(cv.get_feature_names())\n",
    "print('\\n')\n",
    "print(bag_of_words_train)"
   ]
  },
  {
   "cell_type": "markdown",
   "metadata": {},
   "source": [
    "\n",
    "### Word Count"
   ]
  },
  {
   "cell_type": "code",
   "execution_count": null,
   "metadata": {},
   "outputs": [],
   "source": [
    "wordCount = 0\n",
    "\n",
    "for i in range(len(bag_of_words_train)):\n",
    "    wordCount = wordCount+i\n",
    "    \n",
    "wordCount\n"
   ]
  },
  {
   "cell_type": "markdown",
   "metadata": {},
   "source": [
    "### TF-IDF"
   ]
  },
  {
   "cell_type": "code",
   "execution_count": null,
   "metadata": {
    "scrolled": true
   },
   "outputs": [],
   "source": [
    "tfidf = TfidfVectorizer()\n",
    "\n",
    "tfidf_matrix = tfidf.fit_transform(trainData['Processed_Comment'])\n",
    "\n",
    "trainData_tfidf = pd.DataFrame(tfidf_matrix.todense())\n",
    "\n",
    "display(trainData_tfidf)"
   ]
  },
  {
   "cell_type": "markdown",
   "metadata": {},
   "source": [
    "### N-Gram"
   ]
  },
  {
   "cell_type": "code",
   "execution_count": 59,
   "metadata": {},
   "outputs": [
    {
     "data": {
      "text/plain": [
       "[('time', 'with', 'best'),\n",
       " ('with', 'best', 'buddy'),\n",
       " ('best', 'buddy', 'lunch'),\n",
       " ('they', 'want', 'reflection'),\n",
       " ('want', 'reflection', 'money'),\n",
       " ('reflection', 'money', 'ksleg'),\n",
       " ('Good', 'will', 'expect'),\n",
       " ('will', 'expect', 'more'),\n",
       " ('expect', 'more', 'future'),\n",
       " ('totally', 'dissatisfied', 'with'),\n",
       " ('dissatisfied', 'with', 'service'),\n",
       " ('with', 'service', 'never'),\n",
       " ('service', 'never', 'used'),\n",
       " ('never', 'used', 'this'),\n",
       " ('used', 'this', 'service'),\n",
       " ('this', 'service', 'again'),\n",
       " ('Worst', 'customer', 'care'),\n",
       " ('customer', 'care', 'service'),\n",
       " ('care', 'service', 'angry'),\n",
       " ('Brilliant', 'effort', 'guys'),\n",
       " ('point', 'finger', 'millions'),\n",
       " ('finger', 'millions', 'pointed'),\n",
       " ('millions', 'pointed', 'right'),\n",
       " ('pointed', 'right', 'back'),\n",
       " ('right', 'back', 'jewishsupremacist'),\n",
       " ('words', 'free', 'that'),\n",
       " ('free', 'that', 'cost'),\n",
       " ('that', 'cost', 'verbal'),\n",
       " ('cost', 'verbal', 'abuse'),\n",
       " ('verbal', 'abuse', 'love'),\n",
       " ('abuse', 'love', 'adult'),\n",
       " ('love', 'adult', 'teen'),\n",
       " ('might', 'libtard', 'libtard'),\n",
       " ('libtard', 'libtard', 'liberal'),\n",
       " ('libtard', 'liberal', 'politics')]"
      ]
     },
     "execution_count": 59,
     "metadata": {},
     "output_type": "execute_result"
    }
   ],
   "source": [
    "trainDataList = trainData['Processed_Comment'].tolist()\n",
    "grams = list()\n",
    "n = 3\n",
    "\n",
    "for sentence in trainDataList:\n",
    "    threeGrams = ngrams(sentence.split(), n)\n",
    "    for gram in threeGrams:\n",
    "      grams.append(gram)\n",
    "\n",
    "grams\n"
   ]
  },
  {
   "cell_type": "code",
   "execution_count": null,
   "metadata": {},
   "outputs": [],
   "source": []
  },
  {
   "cell_type": "markdown",
   "metadata": {},
   "source": [
    "## Feature Extraction for Test Data"
   ]
  },
  {
   "cell_type": "markdown",
   "metadata": {},
   "source": [
    "### Bag of Words"
   ]
  },
  {
   "cell_type": "code",
   "execution_count": null,
   "metadata": {},
   "outputs": [],
   "source": [
    "cv= CountVectorizer()\n",
    "\n",
    "bag_of_words_test = cv.fit_transform(testData['Processed_Comment']).toarray()\n",
    "\n",
    "print(cv.vocabulary_)\n",
    "\n",
    "print(cv.get_feature_names())\n",
    "print('\\n')\n",
    "print(bag_of_words_test)"
   ]
  },
  {
   "cell_type": "markdown",
   "metadata": {},
   "source": [
    "### Word Count"
   ]
  },
  {
   "cell_type": "code",
   "execution_count": null,
   "metadata": {},
   "outputs": [],
   "source": [
    "wordCount = 0\n",
    "\n",
    "for i in range(len(bag_of_words_test)):\n",
    "    wordCount = wordCount+i\n",
    "    \n",
    "wordCount\n"
   ]
  },
  {
   "cell_type": "markdown",
   "metadata": {},
   "source": [
    "### TF-IDF"
   ]
  },
  {
   "cell_type": "code",
   "execution_count": null,
   "metadata": {},
   "outputs": [],
   "source": [
    "tfidf = TfidfVectorizer()\n",
    "\n",
    "tfidf_matrix = tfidf.fit_transform(testData['Processed_Comment'])\n",
    "\n",
    "testData_tfidf = pd.DataFrame(tfidf_matrix.todense())\n",
    "\n",
    "display(testData_tfidf)"
   ]
  },
  {
   "cell_type": "markdown",
   "metadata": {},
   "source": [
    "### N-Gram"
   ]
  },
  {
   "cell_type": "code",
   "execution_count": 62,
   "metadata": {},
   "outputs": [
    {
     "data": {
      "text/plain": [
       "[('says', 'otherwise', 'young'),\n",
       " ('otherwise', 'young', 'girls'),\n",
       " ('young', 'girls', 'confined'),\n",
       " ('girls', 'confined', 'that'),\n",
       " ('confined', 'that', 'kitchen'),\n",
       " ('that', 'kitchen', 'void'),\n",
       " ('kitchen', 'void', 'meaning'),\n",
       " ('void', 'meaning', 'beyond'),\n",
       " ('meaning', 'beyond', 'cheap'),\n",
       " ('beyond', 'cheap', 'publicity'),\n",
       " ('cheap', 'publicity', 'topoli'),\n",
       " ('good', 'night', 'faith'),\n",
       " ('night', 'faith', 'ever'),\n",
       " ('faith', 'ever', 'vaitacacommafiasdv'),\n",
       " ('when', 'blocked', 'troll'),\n",
       " ('blocked', 'troll', 'because'),\n",
       " ('troll', 'because', 'promise'),\n",
       " ('because', 'promise', 'blacklivesmatter'),\n",
       " ('promise', 'blacklivesmatter', 'nonsensical'),\n",
       " ('blacklivesmatter', 'nonsensical', 'rants'),\n",
       " ('dinner', 'with', 'sister'),\n",
       " ('else', 'planning', 'watching'),\n",
       " ('planning', 'watching', 'tomorrow')]"
      ]
     },
     "execution_count": 62,
     "metadata": {},
     "output_type": "execute_result"
    }
   ],
   "source": [
    "testDataList = testData['Processed_Comment'].tolist()\n",
    "grams = list()\n",
    "n = 3\n",
    "\n",
    "for sentence in testDataList:\n",
    "    threeGrams = ngrams(sentence.split(), n)\n",
    "    for gram in threeGrams:\n",
    "      grams.append(gram)\n",
    "\n",
    "grams\n"
   ]
  },
  {
   "cell_type": "code",
   "execution_count": null,
   "metadata": {},
   "outputs": [],
   "source": []
  }
 ],
 "metadata": {
  "kernelspec": {
   "display_name": "Python 3",
   "language": "python",
   "name": "python3"
  },
  "language_info": {
   "codemirror_mode": {
    "name": "ipython",
    "version": 3
   },
   "file_extension": ".py",
   "mimetype": "text/x-python",
   "name": "python",
   "nbconvert_exporter": "python",
   "pygments_lexer": "ipython3",
   "version": "3.8.5"
  }
 },
 "nbformat": 4,
 "nbformat_minor": 4
}
